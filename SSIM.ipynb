{
  "nbformat": 4,
  "nbformat_minor": 0,
  "metadata": {
    "colab": {
      "provenance": []
    },
    "kernelspec": {
      "name": "python3",
      "display_name": "Python 3"
    },
    "language_info": {
      "name": "python"
    }
  },
  "cells": [
    {
      "cell_type": "code",
      "source": [
        "from skimage.metrics import structural_similarity\n",
        "import argparse\n",
        "import imutils\n",
        "import cv2"
      ],
      "metadata": {
        "id": "eJcliWnfeNcc"
      },
      "execution_count": null,
      "outputs": []
    },
    {
      "cell_type": "code",
      "source": [
        "%%shell\n",
        "pwd\n",
        "ls"
      ],
      "metadata": {
        "colab": {
          "base_uri": "https://localhost:8080/"
        },
        "id": "VaSlBXw1ehf3",
        "outputId": "6f65349f-33c8-4b32-93a1-b3173fa3e26b"
      },
      "execution_count": null,
      "outputs": [
        {
          "output_type": "stream",
          "name": "stdout",
          "text": [
            "/content\n",
            "frame12695.jpg\timg_net55.jpg  sample_data\n"
          ]
        },
        {
          "output_type": "execute_result",
          "data": {
            "text/plain": []
          },
          "metadata": {},
          "execution_count": 2
        }
      ]
    },
    {
      "cell_type": "code",
      "source": [
        "imageA = cv2.imread('/content/frame12695.jpg')\n",
        "imageB = cv2.imread('/content/img_net15.jpg')"
      ],
      "metadata": {
        "id": "iyHMjPSTeOzd"
      },
      "execution_count": null,
      "outputs": []
    },
    {
      "cell_type": "code",
      "source": [
        "grayA = cv2.cvtColor(imageA, cv2.COLOR_BGR2GRAY)\n",
        "grayB = cv2.cvtColor(imageB, cv2.COLOR_BGR2GRAY)"
      ],
      "metadata": {
        "id": "27F_kmAde0NQ",
        "colab": {
          "base_uri": "https://localhost:8080/",
          "height": 188
        },
        "outputId": "fe085630-c5ba-4c1c-8f34-548419f3fab5"
      },
      "execution_count": null,
      "outputs": [
        {
          "output_type": "error",
          "ename": "error",
          "evalue": "ignored",
          "traceback": [
            "\u001b[0;31m---------------------------------------------------------------------------\u001b[0m",
            "\u001b[0;31merror\u001b[0m                                     Traceback (most recent call last)",
            "\u001b[0;32m<ipython-input-4-682131bea66c>\u001b[0m in \u001b[0;36m<module>\u001b[0;34m\u001b[0m\n\u001b[1;32m      1\u001b[0m \u001b[0mgrayA\u001b[0m \u001b[0;34m=\u001b[0m \u001b[0mcv2\u001b[0m\u001b[0;34m.\u001b[0m\u001b[0mcvtColor\u001b[0m\u001b[0;34m(\u001b[0m\u001b[0mimageA\u001b[0m\u001b[0;34m,\u001b[0m \u001b[0mcv2\u001b[0m\u001b[0;34m.\u001b[0m\u001b[0mCOLOR_BGR2GRAY\u001b[0m\u001b[0;34m)\u001b[0m\u001b[0;34m\u001b[0m\u001b[0;34m\u001b[0m\u001b[0m\n\u001b[0;32m----> 2\u001b[0;31m \u001b[0mgrayB\u001b[0m \u001b[0;34m=\u001b[0m \u001b[0mcv2\u001b[0m\u001b[0;34m.\u001b[0m\u001b[0mcvtColor\u001b[0m\u001b[0;34m(\u001b[0m\u001b[0mimageB\u001b[0m\u001b[0;34m,\u001b[0m \u001b[0mcv2\u001b[0m\u001b[0;34m.\u001b[0m\u001b[0mCOLOR_BGR2GRAY\u001b[0m\u001b[0;34m)\u001b[0m\u001b[0;34m\u001b[0m\u001b[0;34m\u001b[0m\u001b[0m\n\u001b[0m",
            "\u001b[0;31merror\u001b[0m: OpenCV(4.6.0) /io/opencv/modules/imgproc/src/color.cpp:182: error: (-215:Assertion failed) !_src.empty() in function 'cvtColor'\n"
          ]
        }
      ]
    },
    {
      "cell_type": "code",
      "source": [
        "(score, diff) = structural_similarity(grayA, grayB, full=True)\n",
        "diff = (diff * 255).astype(\"uint8\")\n",
        "\n",
        "# 6. You can print only the score if you want\n",
        "print(\"SSIM: {}\".format(score))"
      ],
      "metadata": {
        "colab": {
          "base_uri": "https://localhost:8080/"
        },
        "id": "Kmpx8Nfpe3Nc",
        "outputId": "7818594d-eb65-4d8f-9d0b-f941599bef73"
      },
      "execution_count": null,
      "outputs": [
        {
          "output_type": "stream",
          "name": "stdout",
          "text": [
            "SSIM: 0.774886149593101\n"
          ]
        }
      ]
    },
    {
      "cell_type": "code",
      "source": [
        "imageC = cv2.imread('/content/frame12694_inter.jpg')"
      ],
      "metadata": {
        "id": "hoj1GFgKjPOr"
      },
      "execution_count": null,
      "outputs": []
    },
    {
      "cell_type": "code",
      "source": [
        "grayC = cv2.cvtColor(imageC, cv2.COLOR_BGR2GRAY)"
      ],
      "metadata": {
        "id": "W_Te-2nsjX7S"
      },
      "execution_count": null,
      "outputs": []
    },
    {
      "cell_type": "code",
      "source": [
        "(score, diff) = structural_similarity(grayA, grayC, full=True)\n",
        "diff = (diff * 255).astype(\"uint8\")\n",
        "\n",
        "# 6. You can print only the score if you want\n",
        "print(\"SSIM: {}\".format(score))"
      ],
      "metadata": {
        "colab": {
          "base_uri": "https://localhost:8080/"
        },
        "id": "A6FOFaiejcVX",
        "outputId": "8b8b2674-b863-4d86-f279-9aca1a3a73d1"
      },
      "execution_count": null,
      "outputs": [
        {
          "output_type": "stream",
          "name": "stdout",
          "text": [
            "SSIM: 0.9125520963888129\n"
          ]
        }
      ]
    },
    {
      "cell_type": "code",
      "source": [
        "imageA = cv2.imread('/content/frame12695.jpg')\n",
        "imageD = cv2.imread('/content/img_net5.jpg')\n",
        "grayD = cv2.cvtColor(imageD, cv2.COLOR_BGR2GRAY)\n",
        "(score, diff) = structural_similarity(grayA, grayD, full=True)\n",
        "diff = (diff * 255).astype(\"uint8\")\n",
        "\n",
        "# 6. You can print only the score if you want\n",
        "print(\"SSIM: {}\".format(score))\n"
      ],
      "metadata": {
        "colab": {
          "base_uri": "https://localhost:8080/"
        },
        "id": "IhhpTnLy3JK0",
        "outputId": "472ead59-0482-44aa-a541-c84eb20ac872"
      },
      "execution_count": null,
      "outputs": [
        {
          "output_type": "stream",
          "name": "stdout",
          "text": [
            "SSIM: 0.7740027131616443\n"
          ]
        }
      ]
    },
    {
      "cell_type": "code",
      "source": [
        "imageA = cv2.imread('/content/frame12695.jpg')\n",
        "grayA = cv2.cvtColor(imageA, cv2.COLOR_BGR2GRAY)\n",
        "imageE = cv2.imread('/content/img_net55.jpg')\n",
        "grayE = cv2.cvtColor(imageE, cv2.COLOR_BGR2GRAY)\n",
        "(score, diff) = structural_similarity(grayA, grayE, full=True)\n",
        "diff = (diff * 255).astype(\"uint8\")\n",
        "\n",
        "# 6. You can print only the score if you want\n",
        "print(\"SSIM: {}\".format(score))"
      ],
      "metadata": {
        "colab": {
          "base_uri": "https://localhost:8080/"
        },
        "id": "-kKowQoCsaZk",
        "outputId": "3b4fdb37-f2d3-4100-9b02-fc51566e1a1c"
      },
      "execution_count": null,
      "outputs": [
        {
          "output_type": "stream",
          "name": "stdout",
          "text": [
            "SSIM: 0.7769436328758144\n"
          ]
        }
      ]
    },
    {
      "cell_type": "code",
      "source": [
        "imageA = cv2.imread('/content/frame12695.jpg')\n",
        "grayA = cv2.cvtColor(imageA, cv2.COLOR_BGR2GRAY)\n",
        "imageF = cv2.imread('/content/img_net50.jpg')\n",
        "grayF = cv2.cvtColor(imageF, cv2.COLOR_BGR2GRAY)\n",
        "(score, diff) = structural_similarity(grayA, grayF, full=True)\n",
        "diff = (diff * 255).astype(\"uint8\")\n",
        "\n",
        "# 6. You can print only the score if you want\n",
        "print(\"SSIM: {}\".format(score))"
      ],
      "metadata": {
        "colab": {
          "base_uri": "https://localhost:8080/"
        },
        "id": "WDcNPChivhb3",
        "outputId": "a3879791-68f9-4f9a-a03e-454169010b6e"
      },
      "execution_count": null,
      "outputs": [
        {
          "output_type": "stream",
          "name": "stdout",
          "text": [
            "SSIM: 0.7800568530309132\n"
          ]
        }
      ]
    },
    {
      "cell_type": "code",
      "source": [
        "image45 = cv2.imread('/content/img_net45.jpg')\n",
        "gray45 = cv2.cvtColor(image45, cv2.COLOR_BGR2GRAY)\n",
        "(score, diff) = structural_similarity(grayA, gray45, full=True)\n",
        "diff = (diff * 255).astype(\"uint8\")\n",
        "\n",
        "# 6. You can print only the score if you want\n",
        "print(\"SSIM: {}\".format(score))"
      ],
      "metadata": {
        "colab": {
          "base_uri": "https://localhost:8080/"
        },
        "id": "3mRNbA9R3WyS",
        "outputId": "c5984b60-bfac-4005-b700-673c5314abc7"
      },
      "execution_count": null,
      "outputs": [
        {
          "output_type": "stream",
          "name": "stdout",
          "text": [
            "SSIM: 0.7691022060197277\n"
          ]
        }
      ]
    },
    {
      "cell_type": "code",
      "source": [
        "image40 = cv2.imread('/content/img_net40.jpg')\n",
        "gray40 = cv2.cvtColor(image40, cv2.COLOR_BGR2GRAY)\n",
        "(score, diff) = structural_similarity(grayA, gray40, full=True)\n",
        "diff = (diff * 255).astype(\"uint8\")\n",
        "\n",
        "# 6. You can print only the score if you want\n",
        "print(\"SSIM: {}\".format(score))"
      ],
      "metadata": {
        "colab": {
          "base_uri": "https://localhost:8080/"
        },
        "id": "wHizi57DyYY8",
        "outputId": "57a55bf3-32ab-4cf4-a774-b214ba3abc09"
      },
      "execution_count": null,
      "outputs": [
        {
          "output_type": "stream",
          "name": "stdout",
          "text": [
            "SSIM: 0.7692417338463032\n"
          ]
        }
      ]
    },
    {
      "cell_type": "code",
      "source": [
        "image10 = cv2.imread('/content/img_net10.jpg')\n",
        "gray10 = cv2.cvtColor(image10, cv2.COLOR_BGR2GRAY)\n",
        "(score, diff) = structural_similarity(grayA, gray10, full=True)\n",
        "diff = (diff * 255).astype(\"uint8\")\n",
        "\n",
        "# 6. You can print only the score if you want\n",
        "print(\"SSIM: {}\".format(score))"
      ],
      "metadata": {
        "id": "kIYWylIayd32",
        "colab": {
          "base_uri": "https://localhost:8080/"
        },
        "outputId": "8f6f21b6-ea82-4cf2-f363-9749e59f24a5"
      },
      "execution_count": 10,
      "outputs": [
        {
          "output_type": "stream",
          "name": "stdout",
          "text": [
            "SSIM: 0.7763137774347132\n"
          ]
        }
      ]
    },
    {
      "cell_type": "code",
      "source": [
        "image15 = cv2.imread('/content/img_net15.jpg')\n",
        "gray15 = cv2.cvtColor(image15, cv2.COLOR_BGR2GRAY)\n",
        "(score, diff) = structural_similarity(grayA, gray15, full=True)\n",
        "diff = (diff * 255).astype(\"uint8\")\n",
        "\n",
        "# 6. You can print only the score if you want\n",
        "print(\"SSIM: {}\".format(score))"
      ],
      "metadata": {
        "colab": {
          "base_uri": "https://localhost:8080/"
        },
        "id": "g5o_cOiM5EPe",
        "outputId": "af80affd-bb61-4065-b048-a0792c75055c"
      },
      "execution_count": 9,
      "outputs": [
        {
          "output_type": "stream",
          "name": "stdout",
          "text": [
            "SSIM: 0.774886149593101\n"
          ]
        }
      ]
    },
    {
      "cell_type": "code",
      "source": [
        "image35 = cv2.imread('/content/img_net35.jpg')\n",
        "gray35 = cv2.cvtColor(image35, cv2.COLOR_BGR2GRAY)\n",
        "(score, diff) = structural_similarity(grayA, gray35, full=True)\n",
        "diff = (diff * 255).astype(\"uint8\")\n",
        "\n",
        "# 6. You can print only the score if you want\n",
        "print(\"SSIM: {}\".format(score))"
      ],
      "metadata": {
        "colab": {
          "base_uri": "https://localhost:8080/"
        },
        "id": "Itc3grEn6npR",
        "outputId": "c7dea92a-b659-4500-99fc-87a5ef763a7d"
      },
      "execution_count": 11,
      "outputs": [
        {
          "output_type": "stream",
          "name": "stdout",
          "text": [
            "SSIM: 0.7629673502720725\n"
          ]
        }
      ]
    },
    {
      "cell_type": "markdown",
      "source": [
        "For img1"
      ],
      "metadata": {
        "id": "Xp5CGvx5-q1Y"
      }
    },
    {
      "cell_type": "code",
      "source": [
        "imageA = cv2.imread('/content/frame12653.jpg')\n",
        "image1 = cv2.imread('/content/img1_net5.jpg')\n",
        "gray1 = cv2.cvtColor(image1, cv2.COLOR_BGR2GRAY)\n",
        "(score, diff) = structural_similarity(grayA, gray1, full=True)\n",
        "diff = (diff * 255).astype(\"uint8\")\n",
        "\n",
        "# 6. You can print only the score if you want\n",
        "print(\"SSIM: {}\".format(score))"
      ],
      "metadata": {
        "colab": {
          "base_uri": "https://localhost:8080/"
        },
        "id": "pXcSEJ-E8Lo9",
        "outputId": "38716747-0959-4053-9e08-80bb15b892aa"
      },
      "execution_count": 12,
      "outputs": [
        {
          "output_type": "stream",
          "name": "stdout",
          "text": [
            "SSIM: 0.307869228660559\n"
          ]
        }
      ]
    },
    {
      "cell_type": "code",
      "source": [
        "image_A = cv2.imread('/content/frame10120.jpg')\n",
        "image_5 = cv2.imread('/content/new_net5.jpg')\n",
        "gray_A = cv2.cvtColor(image_A, cv2.COLOR_BGR2GRAY)\n",
        "gray_5 = cv2.cvtColor(image_5, cv2.COLOR_BGR2GRAY)\n",
        "(score, diff) = structural_similarity(gray_A, gray_5, full=True)\n",
        "diff = (diff * 255).astype(\"uint8\")\n",
        "\n",
        "# 6. You can print only the score if you want\n",
        "print(\"SSIM: {}\".format(score))"
      ],
      "metadata": {
        "colab": {
          "base_uri": "https://localhost:8080/"
        },
        "id": "ysDbNrlC_C41",
        "outputId": "5e92df90-82c6-4761-aeff-5c6a5a5395e0"
      },
      "execution_count": 15,
      "outputs": [
        {
          "output_type": "stream",
          "name": "stdout",
          "text": [
            "SSIM: 0.8195657955746786\n"
          ]
        }
      ]
    },
    {
      "cell_type": "code",
      "source": [
        "image_A = cv2.imread('/content/frame10120.jpg')\n",
        "image_10 = cv2.imread('/content/new_net10.jpg')\n",
        "gray_A = cv2.cvtColor(image_A, cv2.COLOR_BGR2GRAY)\n",
        "gray_10 = cv2.cvtColor(image_10, cv2.COLOR_BGR2GRAY)\n",
        "(score, diff) = structural_similarity(gray_A, gray_10, full=True)\n",
        "diff = (diff * 255).astype(\"uint8\")\n",
        "\n",
        "# 6. You can print only the score if you want\n",
        "print(\"SSIM: {}\".format(score))"
      ],
      "metadata": {
        "colab": {
          "base_uri": "https://localhost:8080/"
        },
        "id": "zDVA4g9__VcH",
        "outputId": "9c25f557-b40d-4446-864b-fa659ce3a047"
      },
      "execution_count": 17,
      "outputs": [
        {
          "output_type": "stream",
          "name": "stdout",
          "text": [
            "SSIM: 0.8081474437544954\n"
          ]
        }
      ]
    },
    {
      "cell_type": "code",
      "source": [
        "image_A = cv2.imread('/content/frame10120.jpg')\n",
        "image_15 = cv2.imread('/content/new_net15.jpg')\n",
        "gray_A = cv2.cvtColor(image_A, cv2.COLOR_BGR2GRAY)\n",
        "gray_15 = cv2.cvtColor(image_15, cv2.COLOR_BGR2GRAY)\n",
        "(score, diff) = structural_similarity(gray_A, gray_15, full=True)\n",
        "diff = (diff * 255).astype(\"uint8\")\n",
        "\n",
        "# 6. You can print only the score if you want\n",
        "print(\"SSIM: {}\".format(score))"
      ],
      "metadata": {
        "colab": {
          "base_uri": "https://localhost:8080/"
        },
        "id": "xfJSXJohGBjm",
        "outputId": "d9df84b0-4dbc-40a7-a3d9-3b85820373fc"
      },
      "execution_count": 18,
      "outputs": [
        {
          "output_type": "stream",
          "name": "stdout",
          "text": [
            "SSIM: 0.8094093456301382\n"
          ]
        }
      ]
    },
    {
      "cell_type": "code",
      "source": [
        "image_A = cv2.imread('/content/frame10120.jpg')\n",
        "image_35 = cv2.imread('/content/new_net35.jpg')\n",
        "gray_A = cv2.cvtColor(image_A, cv2.COLOR_BGR2GRAY)\n",
        "gray_35 = cv2.cvtColor(image_35, cv2.COLOR_BGR2GRAY)\n",
        "(score, diff) = structural_similarity(gray_A, gray_35, full=True)\n",
        "diff = (diff * 255).astype(\"uint8\")\n",
        "\n",
        "# 6. You can print only the score if you want\n",
        "print(\"SSIM: {}\".format(score))"
      ],
      "metadata": {
        "colab": {
          "base_uri": "https://localhost:8080/"
        },
        "id": "JNjTtgbdGnGZ",
        "outputId": "828e0cb3-de7a-4f0e-81a4-57f5eaa19e62"
      },
      "execution_count": 19,
      "outputs": [
        {
          "output_type": "stream",
          "name": "stdout",
          "text": [
            "SSIM: 0.8205299243312044\n"
          ]
        }
      ]
    },
    {
      "cell_type": "code",
      "source": [
        "image_A = cv2.imread('/content/frame10120.jpg')\n",
        "image_40 = cv2.imread('/content/new_net40.jpg')\n",
        "gray_A = cv2.cvtColor(image_A, cv2.COLOR_BGR2GRAY)\n",
        "gray_40 = cv2.cvtColor(image_40, cv2.COLOR_BGR2GRAY)\n",
        "(score, diff) = structural_similarity(gray_A, gray_40, full=True)\n",
        "diff = (diff * 255).astype(\"uint8\")\n",
        "\n",
        "# 6. You can print only the score if you want\n",
        "print(\"SSIM: {}\".format(score))"
      ],
      "metadata": {
        "colab": {
          "base_uri": "https://localhost:8080/"
        },
        "id": "Pnt6pwckG_yc",
        "outputId": "b1912081-396c-4282-d2c1-d8312eabd7ba"
      },
      "execution_count": 20,
      "outputs": [
        {
          "output_type": "stream",
          "name": "stdout",
          "text": [
            "SSIM: 0.8184819193327336\n"
          ]
        }
      ]
    },
    {
      "cell_type": "code",
      "source": [
        "image_A = cv2.imread('/content/frame10120.jpg')\n",
        "image_45 = cv2.imread('/content/new_net45.jpg')\n",
        "gray_A = cv2.cvtColor(image_A, cv2.COLOR_BGR2GRAY)\n",
        "gray_45 = cv2.cvtColor(image_45, cv2.COLOR_BGR2GRAY)\n",
        "(score, diff) = structural_similarity(gray_A, gray_45, full=True)\n",
        "diff = (diff * 255).astype(\"uint8\")\n",
        "\n",
        "# 6. You can print only the score if you want\n",
        "print(\"SSIM: {}\".format(score))"
      ],
      "metadata": {
        "colab": {
          "base_uri": "https://localhost:8080/"
        },
        "id": "iZ8iEn6zHZuz",
        "outputId": "9af174ab-4c84-4c24-de98-d84afeea1eef"
      },
      "execution_count": 21,
      "outputs": [
        {
          "output_type": "stream",
          "name": "stdout",
          "text": [
            "SSIM: 0.8097996672536647\n"
          ]
        }
      ]
    },
    {
      "cell_type": "code",
      "source": [
        "image_50 = cv2.imread('/content/new_net50.jpg')\n",
        "gray_A = cv2.cvtColor(image_A, cv2.COLOR_BGR2GRAY)\n",
        "gray_50 = cv2.cvtColor(image_50, cv2.COLOR_BGR2GRAY)\n",
        "(score, diff) = structural_similarity(gray_A, gray_50, full=True)\n",
        "diff = (diff * 255).astype(\"uint8\")\n",
        "\n",
        "# 6. You can print only the score if you want\n",
        "print(\"SSIM: {}\".format(score))"
      ],
      "metadata": {
        "colab": {
          "base_uri": "https://localhost:8080/"
        },
        "id": "VRg7ameuHxXm",
        "outputId": "a2980352-9361-4216-86e6-3dd7b61ef92d"
      },
      "execution_count": 22,
      "outputs": [
        {
          "output_type": "stream",
          "name": "stdout",
          "text": [
            "SSIM: 0.8021803768774675\n"
          ]
        }
      ]
    },
    {
      "cell_type": "code",
      "source": [
        "image_55 = cv2.imread('/content/new_net55.jpg')\n",
        "gray_A = cv2.cvtColor(image_A, cv2.COLOR_BGR2GRAY)\n",
        "gray_55 = cv2.cvtColor(image_55, cv2.COLOR_BGR2GRAY)\n",
        "(score, diff) = structural_similarity(gray_A, gray_55, full=True)\n",
        "diff = (diff * 255).astype(\"uint8\")\n",
        "\n",
        "# 6. You can print only the score if you want\n",
        "print(\"SSIM: {}\".format(score))"
      ],
      "metadata": {
        "colab": {
          "base_uri": "https://localhost:8080/"
        },
        "id": "0yvLPInlINgG",
        "outputId": "0785f41f-80cd-4e3a-da90-05e6f1912448"
      },
      "execution_count": 23,
      "outputs": [
        {
          "output_type": "stream",
          "name": "stdout",
          "text": [
            "SSIM: 0.8050436304189478\n"
          ]
        }
      ]
    },
    {
      "cell_type": "code",
      "source": [
        "image_A = cv2.imread('/content/frame10120.jpg')\n",
        "image_pre = cv2.imread('/content/new_pretrain.jpg')\n",
        "gray_A = cv2.cvtColor(image_A, cv2.COLOR_BGR2GRAY)\n",
        "gray_pre = cv2.cvtColor(image_pre, cv2.COLOR_BGR2GRAY)\n",
        "(score, diff) = structural_similarity(gray_A, gray_pre, full=True)\n",
        "diff = (diff * 255).astype(\"uint8\")\n",
        "\n",
        "# 6. You can print only the score if you want\n",
        "print(\"SSIM: {}\".format(score))"
      ],
      "metadata": {
        "colab": {
          "base_uri": "https://localhost:8080/"
        },
        "id": "aLRlFspuIjcK",
        "outputId": "ec149ba9-3c54-4d47-adee-bf7602f93a03"
      },
      "execution_count": 27,
      "outputs": [
        {
          "output_type": "stream",
          "name": "stdout",
          "text": [
            "SSIM: 0.7421272604932696\n"
          ]
        }
      ]
    },
    {
      "cell_type": "code",
      "source": [],
      "metadata": {
        "id": "8gWP7y0FKBta"
      },
      "execution_count": null,
      "outputs": []
    }
  ]
}