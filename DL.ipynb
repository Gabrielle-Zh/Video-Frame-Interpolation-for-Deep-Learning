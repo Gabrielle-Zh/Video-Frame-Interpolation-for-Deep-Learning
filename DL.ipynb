{
  "cells": [
    {
      "cell_type": "code",
      "source": [
        "%%shell\n",
        "##step1\n",
        "pwd"
      ],
      "metadata": {
        "colab": {
          "base_uri": "https://localhost:8080/"
        },
        "id": "UhNXIR_ORt57",
        "outputId": "4eb239df-5c0f-4144-bf75-016dc5278b66"
      },
      "execution_count": null,
      "outputs": [
        {
          "output_type": "stream",
          "name": "stdout",
          "text": [
            "/content\n"
          ]
        },
        {
          "output_type": "execute_result",
          "data": {
            "text/plain": []
          },
          "metadata": {},
          "execution_count": 1
        }
      ]
    },
    {
      "cell_type": "code",
      "source": [
        "%%shell\n",
        "##step3\n",
        "cd VFIformer\n",
        "pwd\n",
        "#pip install tensorflow\n",
        "#pip install tensorboardX\n",
        "#pip install timm\n",
        "python demo.py --img0_path /content/VFIformer/data/frame10119.jpg --img1_path /content/VFIformer/data/frame10121.jpg --save_folder test_results_demo --net_name VFIformer --resume ./pretrained_models/net_220.pth"
      ],
      "metadata": {
        "colab": {
          "base_uri": "https://localhost:8080/"
        },
        "id": "Ytvqf9CmR0pW",
        "outputId": "9ac0eaeb-d168-4bd8-eb33-eb2aa02e6725"
      },
      "execution_count": null,
      "outputs": [
        {
          "output_type": "stream",
          "name": "stdout",
          "text": [
            "/content/VFIformer\n",
            "Disabled distributed training.\n",
            "/usr/local/lib/python3.8/dist-packages/torch/functional.py:478: UserWarning: torch.meshgrid: in an upcoming release, it will be required to pass the indexing argument. (Triggered internally at  ../aten/src/ATen/native/TensorShape.cpp:2894.)\n",
            "  return _VF.meshgrid(tensors, **kwargs)  # type: ignore[attr-defined]\n",
            "result saved!\n"
          ]
        },
        {
          "output_type": "execute_result",
          "data": {
            "text/plain": []
          },
          "metadata": {},
          "execution_count": 22
        }
      ]
    },
    {
      "cell_type": "code",
      "source": [
        "%%shell\n",
        "##step2\n",
        "pwd\n",
        "git clone https://github.com/dvlab-research/VFIformer.git"
      ],
      "metadata": {
        "id": "5kxXCy20xV2S",
        "outputId": "e14fab1a-ec2d-41d1-b4f5-e2769f7c7ed1",
        "colab": {
          "base_uri": "https://localhost:8080/"
        }
      },
      "execution_count": null,
      "outputs": [
        {
          "output_type": "stream",
          "name": "stdout",
          "text": [
            "/content\n",
            "Cloning into 'VFIformer'...\n",
            "remote: Enumerating objects: 119, done.\u001b[K\n",
            "remote: Counting objects: 100% (21/21), done.\u001b[K\n",
            "remote: Compressing objects: 100% (9/9), done.\u001b[K\n",
            "remote: Total 119 (delta 13), reused 12 (delta 12), pack-reused 98\u001b[K\n",
            "Receiving objects: 100% (119/119), 235.70 KiB | 3.86 MiB/s, done.\n",
            "Resolving deltas: 100% (65/65), done.\n"
          ]
        },
        {
          "output_type": "execute_result",
          "data": {
            "text/plain": []
          },
          "metadata": {},
          "execution_count": 2
        }
      ]
    }
  ],
  "metadata": {
    "accelerator": "GPU",
    "colab": {
      "provenance": []
    },
    "kernelspec": {
      "display_name": "Python 3",
      "name": "python3"
    },
    "language_info": {
      "name": "python"
    },
    "gpuClass": "standard"
  },
  "nbformat": 4,
  "nbformat_minor": 0
}